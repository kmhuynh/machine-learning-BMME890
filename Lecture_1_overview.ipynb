{
 "cells": [
  {
   "cell_type": "markdown",
   "metadata": {
    "slideshow": {
     "slide_type": "slide"
    }
   },
   "source": [
    "# Practical machine learning for biosignal analysis\n",
    "**Course number**: BMME890.014.FA19 \n",
    "  \n",
    "### Instructor\n",
    "\n",
    "**Andrea Giovannucci**  \n",
    "Assistant Professor, Biomedical Engineering Department  \n",
    "**email**: agiovann@email.unc.edu  \n",
    "**office**: Mary Ellen jones 9202B   \n",
    "**office hours**: Tue-Th, 4.45 PM - 5.45 PM   "
   ]
  },
  {
   "cell_type": "markdown",
   "metadata": {
    "slideshow": {
     "slide_type": "slide"
    }
   },
   "source": [
    "This graduate level course will introduce practical machine learning concepts and tools, and will exemplify their application to the analysis of biological signals and images, including EEG, ECog, brain imaging, electrophysiology, and image recognition."
   ]
  },
  {
   "cell_type": "markdown",
   "metadata": {
    "slideshow": {
     "slide_type": "slide"
    }
   },
   "source": [
    "# Outline\n",
    "1. Course organization\n",
    "2. Setting up resources\n",
    "3. Course project\n",
    "4. Installation of required packages"
   ]
  },
  {
   "cell_type": "markdown",
   "metadata": {
    "slideshow": {
     "slide_type": "slide"
    }
   },
   "source": [
    "# 1. Course organization"
   ]
  },
  {
   "cell_type": "markdown",
   "metadata": {
    "slideshow": {
     "slide_type": "subslide"
    }
   },
   "source": [
    "## Textbook\n",
    "*Hands-on Machine Learning with Scikit-Learn, Keras, and TensorFlow: Concepts, Tools, and Techniques to Build Intelligent Systems. 2nd Edition.* (**available in October 2019**) \n",
    "* [Here](https://www.acm.org/membership/offers/skill-up-oreilly) a cheap way to get access to this book and other 50000 via the [O'Reilly](https://learning.oreilly.com/) learning platform (free with ACM membership - $75).\n",
    "* *Past Edition. Hands-On Machine Learning with Scikit-Learn and TensorFlow: Concepts, Tools, and Techniques to Build Intelligent Systems. Aurelien Geron. Ed. O' Reilly*.\n",
    " "
   ]
  },
  {
   "cell_type": "markdown",
   "metadata": {
    "slideshow": {
     "slide_type": "subslide"
    }
   },
   "source": [
    "## Resources\n",
    "1. [scikit-learn](https://scikit-learn.org)\n",
    "2. [course repository](https://github.com/agiovann/machine-learning-BMME890/)\n",
    "3. [Anaconda](https://www.anaconda.com/distribution/) Python distribution\n",
    "4. Prepare slides in Jupyter Notebooks with [RISE](https://github.com/damianavila/RISE)\n",
    "5. [kaggle](https://www.kaggle.com/competitions) competitions"
   ]
  },
  {
   "cell_type": "markdown",
   "metadata": {
    "slideshow": {
     "slide_type": "subslide"
    }
   },
   "source": [
    "## Learning objectives \n",
    "1. use github to share, contribute and extend open-source code\n",
    "2. explore, visualize and interpret datasets using the matplotlib and pandas Python libraries\n",
    "3. identify and use properly machine learning terms and concepts: supervised and unsupervised learning, variance-bias tradeoff, underfitting and overfitting, batch and online learning, testing and validating, classification and regression\n",
    "4. formalize a problem in machine learning terms, solve with the appropriate method in the scikit and keras learning packages, and visualize solution metrics"
   ]
  },
  {
   "cell_type": "markdown",
   "metadata": {
    "slideshow": {
     "slide_type": "subslide"
    }
   },
   "source": [
    "## Course schedule \n",
    "\n",
    "| Week |   In class  | Readings  | Deliverables (due) |\n",
    "| :------------- \t| ------------- |:-------------:| -----:|\n",
    "| #1 \t\tIntro\t| overview/anaconda/poll/github | slides | -- |\n",
    "| #2 \t\tRecap\t| spyder/jupyter/pandas/visualization |slides|HW1 (Th)|\n",
    "| #3 \t\tRecap\t| linear algebra/statistics | slides |  |\n",
    "| #4 \t\tRecap\t| ML overview/kaggle |chapter 1-2| HW2 (Th)|\n",
    "| #5 \t\tHW\t\t| project presentations | -- |  HW3 (Tue) |\n",
    "| #6 \t\tSL| classification| chapter 3 | -- |\n",
    "| #7 \t\tSL| regression| chapter 4 | --   |\n",
    "| #8 \t\tSL| support vector machines | chapter 5 | HW4 |\n",
    "| #9 \t\tUL| dimensionality reduction | chapter 8 | HW5 |\n",
    "| #10 \t\tUL| clustering/gaussian mixtures/spike sorting | chapter 9 | -- |\n",
    "| #11 \t\tDL\t| setting up/intro to ANNs  | chapter 10-13| HW6 |\n",
    "| #12 \t\tDL\t| intro to ANNs | chapter 10-13 |--|\n",
    "| #13 \t\tDL\t| convolutional nets | chapter 14 |--|\n",
    "| #14 \t\tDL\t| recurrent deep nets | chapter 15  |HW7|\n",
    "| #15 \t\tHW\t| project presentations | --  | Project |\n",
    "| #16 \t\tExtra\t| EEG, ECoG | slides  | Project |\n",
    "| #17 \t\tExtra\t| Brain Imaging | slides  | Project |"
   ]
  },
  {
   "cell_type": "markdown",
   "metadata": {
    "slideshow": {
     "slide_type": "subslide"
    }
   },
   "source": [
    "## Evaluation (see points above)\n",
    "\n",
    "The final grade will be computed as follows\n",
    "\n",
    "* 20% classroon quizzes: during classes, will cover the material that is explained \n",
    "* 48% homework assignments\n",
    "* 32% project"
   ]
  },
  {
   "cell_type": "markdown",
   "metadata": {
    "slideshow": {
     "slide_type": "subslide"
    }
   },
   "source": [
    "## Homework & project (1/2)\n",
    "### Total 200 pts\n",
    "\n",
    "* **HW 1**. Setting up (20 pts)\n",
    "* **HW 2a**. Getting started with Jupyter Notebooks  and visualization (5 pts)\n",
    "* **HW 2b**. Recap algebra and statistics (15 pts) \n",
    "* **HW 3**. Course project description and presentation (20  pts)\n",
    "* **HW 4**. *Kaggle Competition*. Regression Problem (20 pts) \n",
    "* **HW 5**. *Kaggle Competition*. Classification Problem (20 pts)"
   ]
  },
  {
   "cell_type": "markdown",
   "metadata": {
    "slideshow": {
     "slide_type": "subslide"
    }
   },
   "source": [
    "## Homework & project  (2/2)\n",
    "\n",
    "* **Optional. Up to 20 points**\n",
    "    *prepare a 30 minutes lecture to explain to the class an argument (one can choose among *support vector machines, clustering, gaussian mixtures, PCA and ICA*). One needs at least 85 points by week 7. \n",
    "* **HW 6**. Unsupervised Learning and Clustering. Spike sorting (20 pts)\n",
    "* **HW 7**. Convolutional Networks (20 pts)\n",
    "* **HW 8. Course project presentation (60 pts)**\n",
    "\n",
    "**!! All coding will be implemented in Python !!**"
   ]
  },
  {
   "cell_type": "markdown",
   "metadata": {
    "slideshow": {
     "slide_type": "subslide"
    }
   },
   "source": [
    "## Class quizzes (total 50 points)\n",
    "\n",
    "* There will be 3-7 during classes, will cover the material that is explained or from previous class, we will use [Poll Everywhere](poll.unc.edu)\n",
    "* Max points per class is 2\n"
   ]
  },
  {
   "cell_type": "markdown",
   "metadata": {
    "slideshow": {
     "slide_type": "subslide"
    }
   },
   "source": [
    "## Phone and computer policy\n",
    "\n",
    "Phones and laptops are allowed in the class, but it is forbidden their use for anything unrelated to the classroom"
   ]
  },
  {
   "cell_type": "markdown",
   "metadata": {
    "slideshow": {
     "slide_type": "slide"
    }
   },
   "source": [
    "# 2. Setting up resources"
   ]
  },
  {
   "cell_type": "markdown",
   "metadata": {
    "slideshow": {
     "slide_type": "subslide"
    }
   },
   "source": [
    "## Resources\n",
    "1. App to answer questions during the lecture. [Poll everywhere](https://poll.unc.edu/)\n",
    "2. [Course repository](https://github.com/agiovann/machine-learning-BMME890/)\n",
    "3. [Sakai](https://sakai.unc.edu) \n",
    "4. [Slack](https://bmme890.slack.com)\n",
    "5. [Anaconda](https://www.anaconda.com/distribution/) Python distribution\n",
    "6. Prepare slides in Jupyter Notebooks with [RISE](https://github.com/damianavila/RISE)\n",
    "7. [scikit-learn](https://scikit-learn.org)\n",
    "8. [kaggle](https://www.kaggle.com/competitions) competitions"
   ]
  },
  {
   "cell_type": "markdown",
   "metadata": {
    "slideshow": {
     "slide_type": "subslide"
    }
   },
   "source": [
    "## Poll Everywhere\n",
    "\n",
    "* visit https://poll.unc.edu/\n",
    "* proceed to student account registration\n",
    "* go to the address of the first poll\n",
    "![./images/poll_everywhere.png](./images/poll_everywhere.png)"
   ]
  },
  {
   "cell_type": "markdown",
   "metadata": {
    "slideshow": {
     "slide_type": "subslide"
    }
   },
   "source": [
    "\n",
    "# Poll: how about Poll Everywhere? \n",
    "\n",
    "* It should appear in your Poll Everywhere account\n",
    "* Otherwise: PollEv.com/agiovann\n",
    "\n",
    "\n"
   ]
  },
  {
   "cell_type": "markdown",
   "metadata": {
    "slideshow": {
     "slide_type": "subslide"
    }
   },
   "source": [
    "## Course repository\n",
    "\n",
    "https://github.com/agiovann/machine-learning-BMME890/\n",
    "\n",
    "![./images/github_repo.png](./images/github_repo.png)\n"
   ]
  },
  {
   "cell_type": "markdown",
   "metadata": {
    "slideshow": {
     "slide_type": "subslide"
    }
   },
   "source": [
    "## Accessing the slides: RISE \n",
    "\n",
    "Rise is a framework to access interative slides, which enables *executing python code directly within the slide*\n",
    "\n",
    "### Read only\n",
    "* visit the repository: https://github.com/agiovann/machine-learning-BMME890\n",
    "* Click on the correspondind jupyter notebook\n",
    "\n",
    "### Editing and executing\n",
    "\n",
    "* install anaconda\n",
    "* install the software from this repository: https://github.com/damianavila/RISE\n",
    "    * ```conda install -c conda-forge rise ```\n",
    "* clone the slides from the repository https://github.com/agiovann/machine-learning-BMME890\n",
    "\n",
    "\n"
   ]
  },
  {
   "cell_type": "markdown",
   "metadata": {
    "slideshow": {
     "slide_type": "slide"
    }
   },
   "source": [
    "# 3. Course project"
   ]
  },
  {
   "cell_type": "markdown",
   "metadata": {
    "slideshow": {
     "slide_type": "subslide"
    }
   },
   "source": [
    "## HW3. Course Project (20  pts)**\n",
    "* Identify a project from your laboratory/your research interest \n",
    "* Write a notebook with 500 words description (in **markdown language** directly in the notebook, cheatsheet [here](https://github.com/adam-p/markdown-here/wiki/Markdown-Cheatsheet)) of the dataset, and provide some visualization and exploratory analysis\n",
    "* Present to the class (15 minutes)"
   ]
  },
  {
   "cell_type": "markdown",
   "metadata": {
    "slideshow": {
     "slide_type": "subslide"
    }
   },
   "source": [
    "## Suggestions\n",
    "\n",
    "* Consider a project for which you have a reasonable way to establish the quality of the outcome\n",
    "* Try to choose a dataset for which a training set (ground truth data) is available or easy to generate\n",
    "* Plan to spend 50-60 hours on the project. Correspondingly, the \"difficulty\" of the required analysis should be average (this can be discussed with me)\n",
    "* If not adequate, it can be discussed after presentation"
   ]
  },
  {
   "cell_type": "markdown",
   "metadata": {
    "slideshow": {
     "slide_type": "subslide"
    }
   },
   "source": [
    "## Poll: do you have access to a GPU?"
   ]
  },
  {
   "cell_type": "markdown",
   "metadata": {
    "slideshow": {
     "slide_type": "slide"
    }
   },
   "source": [
    "# 4. Installation of required packages"
   ]
  },
  {
   "cell_type": "markdown",
   "metadata": {
    "slideshow": {
     "slide_type": "subslide"
    }
   },
   "source": [
    "## Poll: which OS I have access to?"
   ]
  },
  {
   "cell_type": "markdown",
   "metadata": {
    "slideshow": {
     "slide_type": "subslide"
    }
   },
   "source": [
    "## Anaconda install\n",
    "\n",
    "* Anaconda is a **Python distribution**, i.e. a set of Python packages along with a package manager \n",
    "* go to  https://www.anaconda.com/distribution/\n",
    "* download the **64-bit command line installer** unless you are a windows user \n",
    "* type ``` bash ~/Downloads/Anaconda3-2019.07-MacOSX-x86_64.sh``` or whatever the file name is\n",
    "* accept all the default, including adding the the path to the bash or profile file\n"
   ]
  },
  {
   "cell_type": "markdown",
   "metadata": {
    "slideshow": {
     "slide_type": "subslide"
    }
   },
   "source": [
    "### Anaconda environment\n",
    "* Anaconda environments are a useful abstraction to maintain a set of packages with specific version, normally associated to a specific project\n",
    "* Example: John is working on a Python 3 project, but also has an old package that he is maintaining in Python 2. \n",
    "    * John does not need to install several versions of Python, just to have **different environments**. \n",
    "* ``` A conda environment is a directory that contains a specific collection of conda installed packages.```\n",
    "* You can seamlessly jump between environments"
   ]
  },
  {
   "cell_type": "markdown",
   "metadata": {
    "slideshow": {
     "slide_type": "subslide"
    }
   },
   "source": [
    "### Create and use environments (windows slightly different)\n",
    "\n",
    "#### Create\n",
    "* ```conda create --name myenv``` \n",
    "* ```conda create -n myenv python=3.4``` $\\rightarrow$ *specific Python version*\n",
    "* ```conda create -n myenv scipy``` $\\rightarrow$ *specific package*\n",
    "* ```conda create -n myenv scipy=0.15.0``` $\\rightarrow$ *specific version of a package*\n",
    "* ```conda create -n myenv python=3.4 scipy=0.15.0 astroid babel``` $\\rightarrow$ *all of the above*\n",
    "\n",
    "#### Use\n",
    "* ```conda activate myenv``` $\\rightarrow$ *enter environment*\n",
    "* ```conda deactivate```  $\\rightarrow$ *exit environment*\n",
    "\n"
   ]
  },
  {
   "cell_type": "markdown",
   "metadata": {
    "slideshow": {
     "slide_type": "subslide"
    }
   },
   "source": [
    "### Other usefule commands\n",
    "\n",
    "* ```conda info --envs``` $\\rightarrow$ *list existing envinronments and their locations*\n",
    "* ```conda list``` $\\rightarrow$ *list all installed packages  (from within environment*\n",
    "* ```pip install some_package_name``` $\\rightarrow$ **sometimes a package cannot be found in anaconda**\n",
    "* ```conda remove --name myenv --all``` $\\rightarrow$m*delete and remove environment* \n"
   ]
  },
  {
   "cell_type": "markdown",
   "metadata": {
    "slideshow": {
     "slide_type": "subslide"
    }
   },
   "source": [
    "### Package managament\n",
    "* ```conda search scipy``` $\\rightarrow$ search for a package\n",
    "* ```conda install --name myenv scipy``` $\\rightarrow$ *install a package into the existing environment 'myenv'*\n",
    "* ```conda install scipy``` $\\rightarrow$ *install a package in activated environment*\n",
    "* ```conda install scipy=0.15.0``` $\\rightarrow$ *package specific version*\n",
    "* ```conda update biopython``` $\\rightarrow$ *update package*\n",
    "* ```conda remove -n myenv scipy``` or ```conda remove scipy``` $\\rightarrow$ *remove package* "
   ]
  },
  {
   "cell_type": "markdown",
   "metadata": {
    "slideshow": {
     "slide_type": "subslide"
    }
   },
   "source": [
    "## Install the RISE package (for slides visualization and execution)\n",
    "\n",
    "``` conda install -c conda-forge rise```"
   ]
  },
  {
   "cell_type": "markdown",
   "metadata": {
    "slideshow": {
     "slide_type": "subslide"
    }
   },
   "source": [
    "### Quiz: What is an anaconda environment?\n"
   ]
  },
  {
   "cell_type": "markdown",
   "metadata": {
    "slideshow": {
     "slide_type": "subslide"
    }
   },
   "source": [
    "## Jupyter Notebooks\n",
    "\n",
    "* Go to a terminal \n",
    "* Change directory to your home folder\n",
    "    * ```cd ~```\n",
    "* type\n",
    "    * ```jupyter notebook ```"
   ]
  },
  {
   "cell_type": "code",
   "execution_count": 11,
   "metadata": {
    "slideshow": {
     "slide_type": "subslide"
    }
   },
   "outputs": [
    {
     "name": "stdout",
     "output_type": "stream",
     "text": [
      "[0.57244591 0.23772392 0.95592063 0.35658246 0.67121339 0.80756375\n",
      " 0.38735857 0.17441902 0.80322279 0.62708007 0.19909098 0.00760981\n",
      " 0.06082626 0.01484656 0.72275917 0.22701717 0.66776316 0.32342315\n",
      " 0.40545394 0.72498686]\n"
     ]
    }
   ],
   "source": [
    "#generate and print random numbers\n",
    "import numpy as np\n",
    "\n",
    "rnd = np.random.random((20,))\n",
    "print(rnd)"
   ]
  },
  {
   "cell_type": "code",
   "execution_count": 12,
   "metadata": {
    "slideshow": {
     "slide_type": "subslide"
    }
   },
   "outputs": [
    {
     "data": {
      "text/plain": [
       "[<matplotlib.lines.Line2D at 0x113c05400>]"
      ]
     },
     "execution_count": 12,
     "metadata": {},
     "output_type": "execute_result"
    },
    {
     "data": {
      "image/png": "[encoded data removed]",
      "text/plain": [
       "<Figure size 432x288 with 1 Axes>"
      ]
     },
     "metadata": {
      "needs_background": "light"
     },
     "output_type": "display_data"
    }
   ],
   "source": [
    "# plot some stuff\n",
    "import pylab as plt\n",
    "plt.ion()\n",
    "plt.plot(rnd)"
   ]
  },
  {
   "cell_type": "code",
   "execution_count": 13,
   "metadata": {
    "slideshow": {
     "slide_type": "subslide"
    }
   },
   "outputs": [
    {
     "data": {
      "text/plain": [
       "(array([3., 1., 3., 2., 2., 1., 3., 2., 2., 1.]),\n",
       " array([0.00760981, 0.1024409 , 0.19727198, 0.29210306, 0.38693414,\n",
       "        0.48176522, 0.57659631, 0.67142739, 0.76625847, 0.86108955,\n",
       "        0.95592063]),\n",
       " <a list of 10 Patch objects>)"
      ]
     },
     "execution_count": 13,
     "metadata": {},
     "output_type": "execute_result"
    },
    {
     "data": {
      "image/png": "[encoded data removed]",
      "text/plain": [
       "<Figure size 432x288 with 1 Axes>"
      ]
     },
     "metadata": {
      "needs_background": "light"
     },
     "output_type": "display_data"
    }
   ],
   "source": [
    "# some other plotting\n",
    "plt.hist(rnd)"
   ]
  },
  {
   "cell_type": "markdown",
   "metadata": {
    "slideshow": {
     "slide_type": "subslide"
    }
   },
   "source": [
    "### And anything else you might want to do with Python!!"
   ]
  },
  {
   "cell_type": "markdown",
   "metadata": {
    "slideshow": {
     "slide_type": "subslide"
    }
   },
   "source": [
    "## The Spyder IDE "
   ]
  },
  {
   "cell_type": "markdown",
   "metadata": {},
   "source": [
    "* go to your terminal \n",
    "* type ```spyder```"
   ]
  }
 ],
 "metadata": {
  "celltoolbar": "Slideshow",
  "kernelspec": {
   "display_name": "Python 3",
   "language": "python",
   "name": "python3"
  },
  "language_info": {
   "codemirror_mode": {
    "name": "ipython",
    "version": 3
   },
   "file_extension": ".py",
   "mimetype": "text/x-python",
   "name": "python",
   "nbconvert_exporter": "python",
   "pygments_lexer": "ipython3",
   "version": "3.7.3"
  }
 },
 "nbformat": 4,
 "nbformat_minor": 2
}
