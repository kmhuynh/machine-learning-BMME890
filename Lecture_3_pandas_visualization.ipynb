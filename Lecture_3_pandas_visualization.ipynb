{
 "cells": [
  {
   "cell_type": "markdown",
   "metadata": {
    "slideshow": {
     "slide_type": "slide"
    }
   },
   "source": [
    "# Pandas and data visualization\n",
    "### Lecture 3\n",
    "\n",
    "Slides adapted from: https://www.tutorialspoint.com/"
   ]
  },
  {
   "cell_type": "markdown",
   "metadata": {
    "slideshow": {
     "slide_type": "slide"
    }
   },
   "source": [
    "# What is Pandas\n",
    "* Panda is an open-source Python Library\n",
    "* It provides high-performance data manipulation and analysis\n",
    "* History \n",
    "    * The name *Pandas* is derived from the word Panel Data\n",
    "    * 2008, McKinney started developing pandas to get performance and flexibility in data analysis\n",
    "    * Prior to Pandas, Python was majorly used for data munging and preparation.\n",
    "    * Pandas solved the problem of data analysis.     \n",
    "    * Python with Pandas is used in a wide range of academic and commercial fields  \n",
    "    "
   ]
  },
  {
   "cell_type": "markdown",
   "metadata": {
    "slideshow": {
     "slide_type": "slide"
    }
   },
   "source": [
    "##  Key Features of Pandas\n",
    "* Fast and efficient **DataFrame** object with default and customized indexing.\n",
    "* Tools for **loading data** into in-memory data objects from different file formats.\n",
    "* Data alignment and integrated handling of **missing data**\n",
    "* **Label-based slicing**, indexing and subsetting of large data sets\n",
    "* Columns from a data structure can be deleted or inserted\n",
    "* **Group by data** for aggregation and transformations\n",
    "* Time Series functionality"
   ]
  },
  {
   "cell_type": "markdown",
   "metadata": {
    "slideshow": {
     "slide_type": "slide"
    }
   },
   "source": [
    "## Installation\n",
    "\n",
    "``` conda install pandas ```"
   ]
  },
  {
   "cell_type": "markdown",
   "metadata": {
    "slideshow": {
     "slide_type": "slide"
    }
   },
   "source": [
    "## Data Structures\n",
    "\n",
    "* Three data structures\n",
    "    * Series\n",
    "    * DataFrame\n",
    "    * Panel\n",
    "    \n",
    " "
   ]
  },
  {
   "cell_type": "markdown",
   "metadata": {
    "slideshow": {
     "slide_type": "subslide"
    }
   },
   "source": [
    "   \n",
    "### Relationship among structures\n",
    "* The higher dimensional data structure is a container of its lower dimensional data structure: \n",
    "    * DataFrame is a container of Series\n",
    "    * Panel is a container of DataFrame"
   ]
  },
  {
   "cell_type": "markdown",
   "metadata": {
    "slideshow": {
     "slide_type": "subslide"
    }
   },
   "source": [
    "### Summary data structures \n",
    "    \n",
    "| Data Structure |Dimensions | Description |\n",
    "| --- | --- | --- |\n",
    "| Series | 1D | 1D labeled homogeneous array, fixed size |\n",
    "| Data Frames | 2D | 2D labeled tabular structure with  heterogeneous columns, size not fixed |\n",
    "| Panel | 3D | General 3D labeled data, array of non fixed size |"
   ]
  },
  {
   "cell_type": "markdown",
   "metadata": {
    "slideshow": {
     "slide_type": "subslide"
    }
   },
   "source": [
    "### Series\n",
    "* 1D array structure\n",
    "* Homogeneous data (same type)\n",
    "* Size Immutable\n",
    "* Values of Data Mutable\n",
    "\n",
    "Example: 1,10,14,15,6,90,76"
   ]
  },
  {
   "cell_type": "markdown",
   "metadata": {
    "slideshow": {
     "slide_type": "subslide"
    }
   },
   "source": [
    "### DataFrame\n",
    "\n",
    "* A labelled two-dimensional array with heterogeneous data\n",
    "\n",
    "| Name | Room | Age |\n",
    "| --- | --- | --- |\n",
    "| Andrea | MEJ 9202B | 42  |\n",
    "| Caterina | MEJ 9202A | NaN |\n",
    "| Claire | MEJ 7302 | 33 |\n",
    "| Nicolas | Kenan 725| 34|\n",
    "\n",
    "*\tData Type of Columns\n",
    "\n",
    "| Column| Type| \n",
    "| --- | --- | \n",
    "| Name| \tString| \n",
    "| Room| \tString| \n",
    "| Age\t| Integer| "
   ]
  },
  {
   "cell_type": "markdown",
   "metadata": {
    "slideshow": {
     "slide_type": "subslide"
    }
   },
   "source": [
    "#### DataFrame Summary\n",
    "\n",
    "* Heterogeneous data\n",
    "* Size Mutable\n",
    "* Data Mutable"
   ]
  },
  {
   "cell_type": "markdown",
   "metadata": {
    "slideshow": {
     "slide_type": "subslide"
    }
   },
   "source": [
    "### Panel\n",
    "\n",
    "* A 3D data structure with heterogeneous data\n",
    "* A  container of DataFrames\n",
    "* Heterogeneous data\n",
    "* Size Mutable\n",
    "* Data Mutable"
   ]
  },
  {
   "cell_type": "markdown",
   "metadata": {
    "slideshow": {
     "slide_type": "subslide"
    }
   },
   "source": [
    "### pandas.Series\n",
    "\n",
    "* The constructor is ``` pandas.Series(data, index, dtype, copy)```\n",
    "    * data: ndarray, list, constants\n",
    "    * index: values must be unique and hashable, same length as data. Default np.arrange(n) \n",
    "    * dtype: data type, if None will be inferred\n",
    "    * copy: Copy data. Default False"
   ]
  },
  {
   "cell_type": "code",
   "execution_count": null,
   "metadata": {
    "slideshow": {
     "slide_type": "subslide"
    }
   },
   "outputs": [],
   "source": [
    "import pandas as pd #import the pandas library \n",
    "help(pd.Series) # check function help file"
   ]
  },
  {
   "cell_type": "markdown",
   "metadata": {},
   "source": [
    "####  Example series"
   ]
  },
  {
   "cell_type": "code",
   "execution_count": 167,
   "metadata": {
    "slideshow": {
     "slide_type": "subslide"
    }
   },
   "outputs": [
    {
     "name": "stdout",
     "output_type": "stream",
     "text": [
      "Series([], dtype: float64)\n"
     ]
    }
   ],
   "source": [
    "ds = pd.Series() # create empty series\n",
    "print(ds)"
   ]
  },
  {
   "cell_type": "code",
   "execution_count": 168,
   "metadata": {
    "slideshow": {
     "slide_type": "-"
    }
   },
   "outputs": [
    {
     "name": "stdout",
     "output_type": "stream",
     "text": [
      "0    x\n",
      "1    y\n",
      "2    z\n",
      "3    j\n",
      "dtype: object\n"
     ]
    }
   ],
   "source": [
    "import numpy as np # impor tnupy library\n",
    "data = np.array(['x','y','z','j']) # create series from Array\n",
    "ds = pd.Series(data) # index is not passed: using range(n)\n",
    "print(ds) "
   ]
  },
  {
   "cell_type": "markdown",
   "metadata": {
    "slideshow": {
     "slide_type": "subslide"
    }
   },
   "source": [
    "### Examples series"
   ]
  },
  {
   "cell_type": "code",
   "execution_count": 169,
   "metadata": {
    "slideshow": {
     "slide_type": "-"
    }
   },
   "outputs": [
    {
     "name": "stdout",
     "output_type": "stream",
     "text": [
      "x    0.0\n",
      "y    1.0\n",
      "z    2.0\n",
      "dtype: float64\n"
     ]
    }
   ],
   "source": [
    "data = {'x' : 0., 'y' : 1., 'z' : 2.} # using dictionary as an input\n",
    "ds = pd.Series(data) # index is not passed, using dict keys as index\n",
    "print(ds)"
   ]
  },
  {
   "cell_type": "code",
   "execution_count": 170,
   "metadata": {
    "slideshow": {
     "slide_type": "subslide"
    }
   },
   "outputs": [
    {
     "name": "stdout",
     "output_type": "stream",
     "text": [
      "y    1.0\n",
      "z    2.0\n",
      "k    NaN\n",
      "x    0.0\n",
      "dtype: float64\n"
     ]
    }
   ],
   "source": [
    "data = {'x' : 0., 'y' : 1., 'z' : 2.}\n",
    "ds = pd.Series(data,index=['y','z','k','x']) # data with index\n",
    "print(ds)"
   ]
  },
  {
   "cell_type": "code",
   "execution_count": 171,
   "metadata": {},
   "outputs": [
    {
     "name": "stdout",
     "output_type": "stream",
     "text": [
      "0    5\n",
      "1    5\n",
      "2    5\n",
      "3    5\n",
      "dtype: int64\n"
     ]
    }
   ],
   "source": [
    "ds = pd.Series(5, index=[0, 1, 2, 3]) # series from scalar\n",
    "print(ds)"
   ]
  },
  {
   "cell_type": "markdown",
   "metadata": {
    "slideshow": {
     "slide_type": "subslide"
    }
   },
   "source": [
    "#### Access data from position"
   ]
  },
  {
   "cell_type": "code",
   "execution_count": 172,
   "metadata": {},
   "outputs": [
    {
     "name": "stdout",
     "output_type": "stream",
     "text": [
      "1\n",
      "****\n",
      "a    1\n",
      "b    2\n",
      "dtype: int64\n",
      "****\n",
      "a    1\n",
      "b    2\n",
      "c    3\n",
      "dtype: int64\n",
      "****\n",
      "c    3\n",
      "d    4\n",
      "e    5\n",
      "dtype: int64\n"
     ]
    }
   ],
   "source": [
    "ds = pd.Series([1,2,3,4,5],index = ['a','b','c','d','e'])\n",
    "print(ds[0])\n",
    "print('****')\n",
    "print(ds[[0,1]])\n",
    "print('****')\n",
    "print(ds[:3])\n",
    "print('****')\n",
    "print(ds[-3:])"
   ]
  },
  {
   "cell_type": "markdown",
   "metadata": {
    "slideshow": {
     "slide_type": "subslide"
    }
   },
   "source": [
    "#### Access data using labels"
   ]
  },
  {
   "cell_type": "code",
   "execution_count": 173,
   "metadata": {},
   "outputs": [
    {
     "name": "stdout",
     "output_type": "stream",
     "text": [
      "2\n",
      "****\n",
      "b    2\n",
      "dtype: int64\n",
      "****\n",
      "b    2\n",
      "c    3\n",
      "dtype: int64\n"
     ]
    }
   ],
   "source": [
    "ds = pd.Series([1,2,3,4,5],index = ['a','b','c','d','e'])\n",
    "print(ds['b'])\n",
    "print('****')\n",
    "print(ds[['b']])\n",
    "print('****')\n",
    "print(ds[['b','c']])"
   ]
  },
  {
   "cell_type": "code",
   "execution_count": 174,
   "metadata": {
    "slideshow": {
     "slide_type": "-"
    }
   },
   "outputs": [],
   "source": [
    "#print(ds['z']) # key is not in  ['a','b','c','d','e']"
   ]
  },
  {
   "cell_type": "markdown",
   "metadata": {
    "slideshow": {
     "slide_type": "subslide"
    }
   },
   "source": [
    "### pandas.DataFrame (EXCEL LIKE)\n",
    "\n",
    "* columns might be of different types\n",
    "* Size – Not fixed\n",
    "* Labeled axes (rows and columns)\n",
    "* Can apply algorithms on rows and columns"
   ]
  },
  {
   "cell_type": "markdown",
   "metadata": {},
   "source": [
    "#### Rows and columns\n",
    "\n",
    "| Name | Room | Age |\n",
    "| --- | --- | --- |\n",
    "| Andrea | MEJ 9202B | 42  |\n",
    "| Caterina | MEJ 9202A | NaN |\n",
    "| Claire | MEJ 7302 | 33 |\n",
    "| Nicolas | Kenan 725| 34|\n",
    "\n"
   ]
  },
  {
   "cell_type": "markdown",
   "metadata": {
    "slideshow": {
     "slide_type": "subslide"
    }
   },
   "source": [
    "#### Constructor\n",
    "\n",
    "* ```pandas.DataFrame(data, index, columns, dtype, copy)```\n",
    "    * data: ndarray, series, map, lists, dict, constants, another DataFrame\t --> Iterables\n",
    "    * index: For the row labels, similar to Series, default np.arrange(n) if no index is passed.\n",
    "    * columns: For column labels, default np.arrange(n). This is only true if no index is passed.\n",
    "    * dtype: Data type of each column.\t\n",
    "    * copy\n",
    "\n"
   ]
  },
  {
   "cell_type": "code",
   "execution_count": null,
   "metadata": {},
   "outputs": [],
   "source": [
    "help(pd.DataFrame)"
   ]
  },
  {
   "cell_type": "markdown",
   "metadata": {
    "slideshow": {
     "slide_type": "subslide"
    }
   },
   "source": [
    "#### Creating DataFrames"
   ]
  },
  {
   "cell_type": "code",
   "execution_count": 176,
   "metadata": {},
   "outputs": [
    {
     "name": "stdout",
     "output_type": "stream",
     "text": [
      "Empty DataFrame\n",
      "Columns: []\n",
      "Index: []\n"
     ]
    }
   ],
   "source": [
    "import pandas as pd\n",
    "df = pd.DataFrame() # empty\n",
    "print(df)"
   ]
  },
  {
   "cell_type": "code",
   "execution_count": 177,
   "metadata": {},
   "outputs": [
    {
     "name": "stdout",
     "output_type": "stream",
     "text": [
      "   0\n",
      "0  1\n",
      "1  2\n",
      "2  3\n",
      "3  4\n",
      "4  5\n"
     ]
    }
   ],
   "source": [
    "df = pd.DataFrame([1,2,3,4,5]) # from list\n",
    "print(df)"
   ]
  },
  {
   "cell_type": "code",
   "execution_count": 178,
   "metadata": {
    "slideshow": {
     "slide_type": "subslide"
    }
   },
   "outputs": [
    {
     "name": "stdout",
     "output_type": "stream",
     "text": [
      "     Name   Age\n",
      "0    Alex  10.0\n",
      "1     Bob  12.0\n",
      "2  Clarke  13.0\n"
     ]
    }
   ],
   "source": [
    "data = [['Alex',10],['Bob',12],['Clarke',13]]\n",
    "df = pd.DataFrame(data,columns=['Name','Age'], dtype=np.float) # from dict and set float type\n",
    "print(df)"
   ]
  },
  {
   "cell_type": "code",
   "execution_count": 179,
   "metadata": {},
   "outputs": [
    {
     "name": "stdout",
     "output_type": "stream",
     "text": [
      "    Name  Age\n",
      "0    Tom   28\n",
      "1   Jack   34\n",
      "2  Steve   29\n",
      "3  Ricky   42\n"
     ]
    }
   ],
   "source": [
    "data = {'Name':['Tom', 'Jack', 'Steve', 'Ricky'],'Age':[28,34,29,42]} # from dict and iterable\n",
    "df = pd.DataFrame(data)\n",
    "print(df)"
   ]
  },
  {
   "cell_type": "code",
   "execution_count": 180,
   "metadata": {
    "slideshow": {
     "slide_type": "subslide"
    }
   },
   "outputs": [
    {
     "name": "stdout",
     "output_type": "stream",
     "text": [
      "    Name  Age\n",
      "A    Tom   28\n",
      "B   Jack   34\n",
      "C  Steve   29\n",
      "D  Ricky   42\n"
     ]
    }
   ],
   "source": [
    "data = {'Name':['Tom', 'Jack', 'Steve', 'Ricky'],'Age':[28,34,29,42]}\n",
    "df = pd.DataFrame(data, index=['A','B','C','D']) # now using index\n",
    "print(df)"
   ]
  },
  {
   "cell_type": "code",
   "execution_count": 181,
   "metadata": {},
   "outputs": [
    {
     "name": "stdout",
     "output_type": "stream",
     "text": [
      "   a   b     c\n",
      "0  1   2   NaN\n",
      "1  5  10  20.0\n"
     ]
    }
   ],
   "source": [
    "data = [{'a': 1, 'b': 2},{'a': 5, 'b': 10, 'c': 20}]\n",
    "df = pd.DataFrame(data) # from lists of dicts\n",
    "print(df)"
   ]
  },
  {
   "cell_type": "code",
   "execution_count": 182,
   "metadata": {
    "slideshow": {
     "slide_type": "subslide"
    }
   },
   "outputs": [
    {
     "name": "stdout",
     "output_type": "stream",
     "text": [
      "   a   b     c\n",
      "X  1   2   NaN\n",
      "Y  5  10  20.0\n"
     ]
    }
   ],
   "source": [
    "data = [{'a': 1, 'b': 2},{'a': 5, 'b': 10, 'c': 20}]\n",
    "df = pd.DataFrame(data, index=['X', 'Y']) # from lists of dicts and index\n",
    "print(df)"
   ]
  },
  {
   "cell_type": "code",
   "execution_count": 183,
   "metadata": {},
   "outputs": [
    {
     "name": "stdout",
     "output_type": "stream",
     "text": [
      "   a   b\n",
      "X  1   2\n",
      "Y  5  10\n",
      "******\n",
      "   a  b1\n",
      "X  1 NaN\n",
      "Y  5 NaN\n"
     ]
    }
   ],
   "source": [
    "data = [{'a': 1, 'b': 2},{'a': 5, 'b': 10, 'c': 20}]\n",
    "\n",
    "#subselects only  dictionary keys a,b\n",
    "df1 = pd.DataFrame(data, index=['X', 'Y'], columns=['a', 'b']) \n",
    "print(df1)\n",
    "print('******')\n",
    "\n",
    "#if keys not existing, adds NaNs\n",
    "df2 = pd.DataFrame(data, index=['X', 'Y'], columns=['a', 'b1'])  \n",
    "\n",
    "print(df2)"
   ]
  },
  {
   "cell_type": "code",
   "execution_count": 184,
   "metadata": {
    "slideshow": {
     "slide_type": "subslide"
    }
   },
   "outputs": [
    {
     "name": "stdout",
     "output_type": "stream",
     "text": [
      "   first  second\n",
      "a    1.0       1\n",
      "b    2.0       2\n",
      "c    3.0       3\n",
      "d    NaN       4\n"
     ]
    }
   ],
   "source": [
    "d = {'first' : pd.Series([1, 2, 3], index=['a', 'b', 'c']),\n",
    "   'second' : pd.Series([1, 2, 3, 4], index=['a', 'b', 'c', 'd'])} # from dictionary of series\n",
    "\n",
    "df = pd.DataFrame(d)\n",
    "print(df) # notice the missing element in first column"
   ]
  },
  {
   "cell_type": "markdown",
   "metadata": {
    "slideshow": {
     "slide_type": "subslide"
    }
   },
   "source": [
    "#### Column Selection, Addition, and Deletion"
   ]
  },
  {
   "cell_type": "code",
   "execution_count": 185,
   "metadata": {},
   "outputs": [
    {
     "name": "stdout",
     "output_type": "stream",
     "text": [
      "a    1.0\n",
      "b    2.0\n",
      "c    3.0\n",
      "d    NaN\n",
      "Name: first, dtype: float64\n",
      "****\n",
      "   first  second\n",
      "a    1.0       1\n",
      "b    2.0       2\n",
      "c    3.0       3\n",
      "d    NaN       4\n"
     ]
    }
   ],
   "source": [
    "print(df['first'])\n",
    "print('****')\n",
    "print(df[['first','second']])"
   ]
  },
  {
   "cell_type": "code",
   "execution_count": 186,
   "metadata": {
    "slideshow": {
     "slide_type": "subslide"
    }
   },
   "outputs": [
    {
     "name": "stdout",
     "output_type": "stream",
     "text": [
      "   first  second  third\n",
      "a    1.0       1   10.0\n",
      "b    2.0       2   20.0\n",
      "c    3.0       3   30.0\n",
      "d    NaN       4    NaN\n"
     ]
    }
   ],
   "source": [
    "df['third']=pd.Series([10,20,30],index=['a','b','c']) # add column using a Series\n",
    "print(df)"
   ]
  },
  {
   "cell_type": "code",
   "execution_count": 187,
   "metadata": {},
   "outputs": [
    {
     "name": "stdout",
     "output_type": "stream",
     "text": [
      "   first  second  third  fourth\n",
      "a    1.0       1   10.0    11.0\n",
      "b    2.0       2   20.0    22.0\n",
      "c    3.0       3   30.0    33.0\n",
      "d    NaN       4    NaN     NaN\n"
     ]
    }
   ],
   "source": [
    "df['fourth'] = df['first'] + df['third'] # add column by combining existing values (EXCEL)\n",
    "print(df)"
   ]
  },
  {
   "cell_type": "code",
   "execution_count": 188,
   "metadata": {
    "slideshow": {
     "slide_type": "subslide"
    }
   },
   "outputs": [
    {
     "name": "stdout",
     "output_type": "stream",
     "text": [
      "a    11.0\n",
      "b    22.0\n",
      "c    33.0\n",
      "d     NaN\n",
      "Name: fourth, dtype: float64\n",
      "****\n",
      "   first  second  third\n",
      "a    1.0       1   10.0\n",
      "b    2.0       2   20.0\n",
      "c    3.0       3   30.0\n",
      "d    NaN       4    NaN\n"
     ]
    }
   ],
   "source": [
    "df4 = df.pop('fourth') #delete using pop\n",
    "print(df4)\n",
    "print('****')\n",
    "print(df)"
   ]
  },
  {
   "cell_type": "code",
   "execution_count": 189,
   "metadata": {
    "slideshow": {
     "slide_type": "-"
    }
   },
   "outputs": [
    {
     "name": "stdout",
     "output_type": "stream",
     "text": [
      "   second  third\n",
      "a       1   10.0\n",
      "b       2   20.0\n",
      "c       3   30.0\n",
      "d       4    NaN\n"
     ]
    }
   ],
   "source": [
    "del df['first'] #delete using del\n",
    "print(df)"
   ]
  },
  {
   "cell_type": "markdown",
   "metadata": {
    "slideshow": {
     "slide_type": "subslide"
    }
   },
   "source": [
    "#### Row Selection, Addition, and Deletion"
   ]
  },
  {
   "cell_type": "code",
   "execution_count": 190,
   "metadata": {},
   "outputs": [
    {
     "name": "stdout",
     "output_type": "stream",
     "text": [
      "second     2.0\n",
      "third     20.0\n",
      "Name: b, dtype: float64\n"
     ]
    }
   ],
   "source": [
    "print(df.loc['b']) # select by index label"
   ]
  },
  {
   "cell_type": "code",
   "execution_count": 191,
   "metadata": {},
   "outputs": [
    {
     "name": "stdout",
     "output_type": "stream",
     "text": [
      "second     1.0\n",
      "third     10.0\n",
      "Name: a, dtype: float64\n"
     ]
    }
   ],
   "source": [
    "print(df.iloc[0]) # select by index"
   ]
  },
  {
   "cell_type": "code",
   "execution_count": 192,
   "metadata": {},
   "outputs": [
    {
     "name": "stdout",
     "output_type": "stream",
     "text": [
      "   second  third\n",
      "c       3   30.0\n",
      "d       4    NaN\n"
     ]
    }
   ],
   "source": [
    "print(df[2:4])  # slice rows"
   ]
  },
  {
   "cell_type": "code",
   "execution_count": 193,
   "metadata": {
    "slideshow": {
     "slide_type": "subslide"
    }
   },
   "outputs": [
    {
     "name": "stdout",
     "output_type": "stream",
     "text": [
      "   a  b\n",
      "0  1  2\n",
      "1  3  4\n",
      "0  5  6\n",
      "1  7  8\n"
     ]
    }
   ],
   "source": [
    "df = pd.DataFrame([[1, 2], [3, 4]], columns = ['a','b'])\n",
    "df2 = pd.DataFrame([[5, 6], [7, 8]], columns = ['a','b'])\n",
    "df = df.append(df2)\n",
    "print(df)"
   ]
  },
  {
   "cell_type": "code",
   "execution_count": 194,
   "metadata": {
    "slideshow": {
     "slide_type": "subslide"
    }
   },
   "outputs": [
    {
     "name": "stdout",
     "output_type": "stream",
     "text": [
      "   a  b\n",
      "1  3  4\n",
      "1  7  8\n"
     ]
    }
   ],
   "source": [
    "df = df.drop(0) # remove using label\n",
    "print(df)\n"
   ]
  },
  {
   "cell_type": "code",
   "execution_count": 199,
   "metadata": {
    "slideshow": {
     "slide_type": "subslide"
    }
   },
   "outputs": [
    {
     "name": "stdout",
     "output_type": "stream",
     "text": [
      "   a  b\n",
      "2  5  6\n",
      "3  7  8\n"
     ]
    }
   ],
   "source": [
    "df = pd.DataFrame([[1, 2], [3, 4],[5, 6], [7, 8]], columns = ['a','b'])\n",
    "df2 = pd.DataFrame([], columns = ['a','b'])\n",
    "df = df.append(df2)\n",
    "df = df[2:] # remove by indexing \n",
    "print(df) "
   ]
  }
 ],
 "metadata": {
  "celltoolbar": "Slideshow",
  "kernelspec": {
   "display_name": "Python 3",
   "language": "python",
   "name": "python3"
  },
  "language_info": {
   "codemirror_mode": {
    "name": "ipython",
    "version": 3
   },
   "file_extension": ".py",
   "mimetype": "text/x-python",
   "name": "python",
   "nbconvert_exporter": "python",
   "pygments_lexer": "ipython3",
   "version": "3.7.3"
  }
 },
 "nbformat": 4,
 "nbformat_minor": 2
}
