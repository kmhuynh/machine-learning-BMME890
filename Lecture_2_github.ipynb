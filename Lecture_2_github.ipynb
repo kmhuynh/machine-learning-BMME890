{
 "cells": [
  {
   "cell_type": "markdown",
   "metadata": {
    "slideshow": {
     "slide_type": "slide"
    }
   },
   "source": [
    "# Github and Git\n",
    "* Before anything\n",
    "    * install Anaconda: https://www.anaconda.com/distribution/\n",
    "    * install Git: \n",
    "        * **Linux**:\n",
    "            apt-get install git\n",
    "        * **Mac/Windows**:\n",
    "            git-scm.com/downloads\n"
   ]
  },
  {
   "cell_type": "markdown",
   "metadata": {
    "scrolled": true,
    "slideshow": {
     "slide_type": "slide"
    }
   },
   "source": [
    "# Outline\n",
    "\n",
    "1. Overview of Git\n",
    "2. Workflow\n",
    "3. Interacting with the local repository\n",
    "4. Interacting with the remote repository\n",
    "5. Working with branches\n",
    "6. Summary\n",
    "7. Homework"
   ]
  },
  {
   "cell_type": "markdown",
   "metadata": {
    "slideshow": {
     "slide_type": "slide"
    }
   },
   "source": [
    "# 1. Overview of Git\n",
    "### Github is a **version control system**, it helps to:\n",
    "* collaborate on shared documents as a team, with multiple people working on the same document at the same time\n",
    "* keep track of **who** changed **what** and **why**\n",
    "* support for unified end results"
   ]
  },
  {
   "cell_type": "markdown",
   "metadata": {
    "slideshow": {
     "slide_type": "subslide"
    }
   },
   "source": [
    "# Git / ɡɪ t/\n",
    "\n",
    "”A silly, incompetent, stupid,\n",
    "annoying or childish person.”\n",
    "\n",
    "http://en.wiktionary.org/wiki/git"
   ]
  },
  {
   "cell_type": "markdown",
   "metadata": {
    "slideshow": {
     "slide_type": "subslide"
    }
   },
   "source": [
    "\"I'm an egotistical bastard, so I name\n",
    "all my projects after myself. \n",
    "First Linux, now Git”\n",
    "\n",
    "Linus Torvalds, PC World. 2012-07-14"
   ]
  },
  {
   "cell_type": "markdown",
   "metadata": {
    "slideshow": {
     "slide_type": "subslide"
    }
   },
   "source": [
    "* Linus needed a new source code revision manager for Linux \n",
    "* None of the available options in 2005 where good enough, so he wrote his own in.\n",
    "* Kernel 2.6.12 was the first release managed by Git\n",
    "* version 1.0 of Git was released in December 2005."
   ]
  },
  {
   "cell_type": "markdown",
   "metadata": {
    "slideshow": {
     "slide_type": "subslide"
    }
   },
   "source": [
    "## Design goals of Git:\n",
    "\n",
    "*  Distributed revision management\n",
    "*  Protection against corruption, both accidental and hostile\n",
    "*  Speed"
   ]
  },
  {
   "cell_type": "markdown",
   "metadata": {
    "slideshow": {
     "slide_type": "subslide"
    }
   },
   "source": [
    "<img src=\"images/git_popularity.png\" width=\"60%\">"
   ]
  },
  {
   "cell_type": "markdown",
   "metadata": {
    "slideshow": {
     "slide_type": "subslide"
    }
   },
   "source": [
    "## Create a Github account"
   ]
  },
  {
   "cell_type": "markdown",
   "metadata": {
    "slideshow": {
     "slide_type": "slide"
    }
   },
   "source": [
    "# 2. Workflows and key terms"
   ]
  },
  {
   "cell_type": "markdown",
   "metadata": {
    "slideshow": {
     "slide_type": "subslide"
    }
   },
   "source": [
    "## Key terms\n",
    "* **fork/clone** $\\rightarrow$ create your own copy of a repository\n",
    "* **commit** $\\rightarrow$ make your changes permanent, announce to the version control system \n",
    "* **push** $\\rightarrow$ publish your changes to a remote online location\n",
    "* **fetch/pull** $\\rightarrow$ retrieve changes from a remote location\n",
    "* **branches** $\\rightarrow$ alternative independent working versions of documents\n",
    "* **merge** $\\rightarrow$ combine changes of a branch into another branch \n"
   ]
  },
  {
   "cell_type": "markdown",
   "metadata": {
    "slideshow": {
     "slide_type": "subslide"
    }
   },
   "source": [
    "## Interaction with the repository\n",
    "<img src=\"images/Github_workflow-01.png\" alt=\"gitworkflow\" width=\"1000\"/>"
   ]
  },
  {
   "cell_type": "markdown",
   "metadata": {
    "slideshow": {
     "slide_type": "subslide"
    }
   },
   "source": [
    "## Branches\n",
    "<img src=\"images/git-branches.svg\" alt=\"gitbranch\" width=\"1000\"/>"
   ]
  },
  {
   "cell_type": "markdown",
   "metadata": {
    "slideshow": {
     "slide_type": "slide"
    }
   },
   "source": [
    "# 3. Interacting with the local repository"
   ]
  },
  {
   "cell_type": "markdown",
   "metadata": {
    "slideshow": {
     "slide_type": "subslide"
    }
   },
   "source": [
    " ## Create repository\n",
    "<img src=\"images/create-repo-0.png\" alt=\"create-repo-0\" width=\"1000\"/>"
   ]
  },
  {
   "cell_type": "markdown",
   "metadata": {
    "slideshow": {
     "slide_type": "subslide"
    }
   },
   "source": [
    "<img src=\"images/create-repo-1.png\" alt=\"create-repo-0\" width=\"1000\"/>"
   ]
  },
  {
   "cell_type": "markdown",
   "metadata": {
    "slideshow": {
     "slide_type": "subslide"
    }
   },
   "source": [
    "## Define the author of commits\n",
    "\n",
    "* ```git config --global user.name \"Mickey Mouse\"```\n",
    "* ```git config --global user.email mickey@mouse.cheese```"
   ]
  },
  {
   "cell_type": "markdown",
   "metadata": {
    "slideshow": {
     "slide_type": "subslide"
    }
   },
   "source": [
    "## Some action on git\n",
    "\n",
    "* clone repository\n",
    "* modify an existing file\n",
    "* add a new files\n",
    "* update code with changes from another developer "
   ]
  },
  {
   "cell_type": "code",
   "execution_count": 1,
   "metadata": {
    "slideshow": {
     "slide_type": "subslide"
    }
   },
   "outputs": [
    {
     "name": "stdout",
     "output_type": "stream",
     "text": [
      "/Users/agiovann/SOFTWARE/TEACHING/machine-learning-BMME890\n",
      "/Users/agiovann/SOFTWARE/TEACHING/machine-learning-BMME890\n",
      "Cloning into '/tmp/test_bme'...\n",
      "remote: Enumerating objects: 3, done.\u001b[K\n",
      "remote: Counting objects: 100% (3/3), done.\u001b[K\n",
      "remote: Total 3 (delta 0), reused 0 (delta 0), pack-reused 0\u001b[K\n",
      "Unpacking objects: 100% (3/3), done.\n"
     ]
    }
   ],
   "source": [
    "print(_dh[0])\n",
    "#needed to make it work in jupyter\n",
    "%cd {_dh[0]} \n",
    "#needed to run multiple times\n",
    "!rm -rf /tmp/test_bme \n",
    "#copy the repository in local folder\n",
    "!git clone https://github.com/agiovann/test_bme.git /tmp/test_bme "
   ]
  },
  {
   "cell_type": "code",
   "execution_count": 2,
   "metadata": {
    "slideshow": {
     "slide_type": "subslide"
    }
   },
   "outputs": [
    {
     "name": "stdout",
     "output_type": "stream",
     "text": [
      "/private/tmp/test_bme\n",
      "README.md\r\n"
     ]
    }
   ],
   "source": [
    "# go to local folder\n",
    "%cd /tmp/test_bme \n",
    "# list content of folder\n",
    "!ls "
   ]
  },
  {
   "cell_type": "code",
   "execution_count": 3,
   "metadata": {
    "slideshow": {
     "slide_type": "-"
    }
   },
   "outputs": [
    {
     "name": "stdout",
     "output_type": "stream",
     "text": [
      "On branch master\r\n",
      "Your branch is up to date with 'origin/master'.\r\n",
      "\r\n",
      "nothing to commit, working tree clean\r\n"
     ]
    }
   ],
   "source": [
    "# important command to evaluate what is the status of the repository\n",
    "!git status "
   ]
  },
  {
   "cell_type": "code",
   "execution_count": 4,
   "metadata": {
    "slideshow": {
     "slide_type": "subslide"
    }
   },
   "outputs": [
    {
     "name": "stdout",
     "output_type": "stream",
     "text": [
      "README.md hello.txt\r\n"
     ]
    }
   ],
   "source": [
    "# add a text file and write inside \"Hello Git\"\n",
    "!echo \"Hello Git\" > hello.txt \n",
    "!ls"
   ]
  },
  {
   "cell_type": "code",
   "execution_count": 5,
   "metadata": {
    "slideshow": {
     "slide_type": "-"
    }
   },
   "outputs": [
    {
     "name": "stdout",
     "output_type": "stream",
     "text": [
      "# test_bme\n",
      "Bme test file\n",
      "# test_bme\n",
      "Bme test file\n",
      "Hello Git README\n"
     ]
    }
   ],
   "source": [
    "!cat README.md\n",
    "# update the README file\n",
    "!echo \"Hello Git README\" >> README.md \n",
    "!cat README.md"
   ]
  },
  {
   "cell_type": "code",
   "execution_count": 6,
   "metadata": {
    "slideshow": {
     "slide_type": "subslide"
    }
   },
   "outputs": [
    {
     "name": "stdout",
     "output_type": "stream",
     "text": [
      "On branch master\r\n",
      "Your branch is up to date with 'origin/master'.\r\n",
      "\r\n",
      "Changes not staged for commit:\r\n",
      "  (use \"git add <file>...\" to update what will be committed)\r\n",
      "  (use \"git checkout -- <file>...\" to discard changes in working directory)\r\n",
      "\r\n",
      "\t\u001b[31mmodified:   README.md\u001b[m\r\n",
      "\r\n",
      "Untracked files:\r\n",
      "  (use \"git add <file>...\" to include in what will be committed)\r\n",
      "\r\n",
      "\t\u001b[31mhello.txt\u001b[m\r\n",
      "\r\n",
      "no changes added to commit (use \"git add\" and/or \"git commit -a\")\r\n"
     ]
    }
   ],
   "source": [
    "!git status"
   ]
  },
  {
   "cell_type": "code",
   "execution_count": 7,
   "metadata": {
    "slideshow": {
     "slide_type": "subslide"
    }
   },
   "outputs": [
    {
     "name": "stdout",
     "output_type": "stream",
     "text": [
      "\u001b[1mdiff --git a/README.md b/README.md\u001b[m\r\n",
      "\u001b[1mindex 0778c12..7b1c950 100644\u001b[m\r\n",
      "\u001b[1m--- a/README.md\u001b[m\r\n",
      "\u001b[1m+++ b/README.md\u001b[m\r\n",
      "\u001b[36m@@ -1,2 +1,3 @@\u001b[m\r\n",
      " # test_bme\u001b[m\r\n",
      " Bme test file\u001b[m\r\n",
      "\u001b[32m+\u001b[m\u001b[32mHello Git README\u001b[m\r\n"
     ]
    }
   ],
   "source": [
    "# check the differences (not super easy to read...)\n",
    "!git diff "
   ]
  },
  {
   "cell_type": "code",
   "execution_count": 8,
   "metadata": {
    "slideshow": {
     "slide_type": "-"
    }
   },
   "outputs": [],
   "source": [
    "# add to index/stageing the README.md file\n",
    "!git add README.md"
   ]
  },
  {
   "cell_type": "code",
   "execution_count": 9,
   "metadata": {
    "slideshow": {
     "slide_type": "subslide"
    }
   },
   "outputs": [
    {
     "name": "stdout",
     "output_type": "stream",
     "text": [
      "On branch master\r\n",
      "Your branch is up to date with 'origin/master'.\r\n",
      "\r\n",
      "Changes to be committed:\r\n",
      "  (use \"git reset HEAD <file>...\" to unstage)\r\n",
      "\r\n",
      "\t\u001b[32mmodified:   README.md\u001b[m\r\n",
      "\r\n",
      "Untracked files:\r\n",
      "  (use \"git add <file>...\" to include in what will be committed)\r\n",
      "\r\n",
      "\t\u001b[31mhello.txt\u001b[m\r\n",
      "\r\n"
     ]
    }
   ],
   "source": [
    "!git status"
   ]
  },
  {
   "cell_type": "code",
   "execution_count": 10,
   "metadata": {
    "slideshow": {
     "slide_type": "-"
    }
   },
   "outputs": [
    {
     "name": "stdout",
     "output_type": "stream",
     "text": [
      "Unstaged changes after reset:\r\n",
      "M\tREADME.md\r\n"
     ]
    }
   ],
   "source": [
    "!git reset HEAD README.md"
   ]
  },
  {
   "cell_type": "code",
   "execution_count": 11,
   "metadata": {
    "slideshow": {
     "slide_type": "subslide"
    }
   },
   "outputs": [
    {
     "name": "stdout",
     "output_type": "stream",
     "text": [
      "On branch master\r\n",
      "Your branch is up to date with 'origin/master'.\r\n",
      "\r\n",
      "Changes not staged for commit:\r\n",
      "  (use \"git add <file>...\" to update what will be committed)\r\n",
      "  (use \"git checkout -- <file>...\" to discard changes in working directory)\r\n",
      "\r\n",
      "\t\u001b[31mmodified:   README.md\u001b[m\r\n",
      "\r\n",
      "Untracked files:\r\n",
      "  (use \"git add <file>...\" to include in what will be committed)\r\n",
      "\r\n",
      "\t\u001b[31mhello.txt\u001b[m\r\n",
      "\r\n",
      "no changes added to commit (use \"git add\" and/or \"git commit -a\")\r\n"
     ]
    }
   ],
   "source": [
    "!git status"
   ]
  },
  {
   "cell_type": "code",
   "execution_count": 12,
   "metadata": {
    "slideshow": {
     "slide_type": "-"
    }
   },
   "outputs": [
    {
     "name": "stdout",
     "output_type": "stream",
     "text": [
      "# test_bme\r\n",
      "Bme test file\r\n"
     ]
    }
   ],
   "source": [
    "!git checkout README.md\n",
    "!cat README.md"
   ]
  },
  {
   "cell_type": "code",
   "execution_count": 13,
   "metadata": {
    "slideshow": {
     "slide_type": "subslide"
    }
   },
   "outputs": [
    {
     "name": "stdout",
     "output_type": "stream",
     "text": [
      "On branch master\r\n",
      "Your branch is up to date with 'origin/master'.\r\n",
      "\r\n",
      "Untracked files:\r\n",
      "  (use \"git add <file>...\" to include in what will be committed)\r\n",
      "\r\n",
      "\t\u001b[31mhello.txt\u001b[m\r\n",
      "\r\n",
      "nothing added to commit but untracked files present (use \"git add\" to track)\r\n"
     ]
    }
   ],
   "source": [
    "!git status"
   ]
  },
  {
   "cell_type": "code",
   "execution_count": 14,
   "metadata": {
    "slideshow": {
     "slide_type": "-"
    }
   },
   "outputs": [
    {
     "name": "stdout",
     "output_type": "stream",
     "text": [
      "# test_bme\n",
      "Bme test file\n",
      "***\n",
      "# test_bme\n",
      "Bme test file\n",
      "Hello Git README\n"
     ]
    }
   ],
   "source": [
    "!cat README.md \n",
    "!echo \"Hello Git README\" >> README.md # update the README file\n",
    "!echo '***'\n",
    "!cat README.md "
   ]
  },
  {
   "cell_type": "code",
   "execution_count": 15,
   "metadata": {
    "slideshow": {
     "slide_type": "subslide"
    }
   },
   "outputs": [
    {
     "name": "stdout",
     "output_type": "stream",
     "text": [
      "On branch master\r\n",
      "Your branch is up to date with 'origin/master'.\r\n",
      "\r\n",
      "Changes to be committed:\r\n",
      "  (use \"git reset HEAD <file>...\" to unstage)\r\n",
      "\r\n",
      "\t\u001b[32mmodified:   README.md\u001b[m\r\n",
      "\r\n",
      "Untracked files:\r\n",
      "  (use \"git add <file>...\" to include in what will be committed)\r\n",
      "\r\n",
      "\t\u001b[31mhello.txt\u001b[m\r\n",
      "\r\n"
     ]
    }
   ],
   "source": [
    "# add to staging modified file\n",
    "!git add README.md\n",
    "! git status"
   ]
  },
  {
   "cell_type": "code",
   "execution_count": 17,
   "metadata": {
    "slideshow": {
     "slide_type": "-"
    }
   },
   "outputs": [],
   "source": [
    "# add to staging new fle\n",
    "!git add hello.txt"
   ]
  },
  {
   "cell_type": "code",
   "execution_count": 18,
   "metadata": {
    "slideshow": {
     "slide_type": "subslide"
    }
   },
   "outputs": [
    {
     "name": "stdout",
     "output_type": "stream",
     "text": [
      "On branch master\r\n",
      "Your branch is up to date with 'origin/master'.\r\n",
      "\r\n",
      "Changes to be committed:\r\n",
      "  (use \"git reset HEAD <file>...\" to unstage)\r\n",
      "\r\n",
      "\t\u001b[32mmodified:   README.md\u001b[m\r\n",
      "\t\u001b[32mnew file:   hello.txt\u001b[m\r\n",
      "\r\n"
     ]
    }
   ],
   "source": [
    "!git status"
   ]
  },
  {
   "cell_type": "code",
   "execution_count": 19,
   "metadata": {
    "slideshow": {
     "slide_type": "-"
    }
   },
   "outputs": [],
   "source": [
    "# check difference with staging\n",
    "!git diff "
   ]
  },
  {
   "cell_type": "code",
   "execution_count": 21,
   "metadata": {
    "slideshow": {
     "slide_type": "subslide"
    }
   },
   "outputs": [
    {
     "name": "stdout",
     "output_type": "stream",
     "text": [
      "\u001b[1mdiff --git a/README.md b/README.md\u001b[m\r\n",
      "\u001b[1mindex 0778c12..7b1c950 100644\u001b[m\r\n",
      "\u001b[1m--- a/README.md\u001b[m\r\n",
      "\u001b[1m+++ b/README.md\u001b[m\r\n",
      "\u001b[36m@@ -1,2 +1,3 @@\u001b[m\r\n",
      " # test_bme\u001b[m\r\n",
      " Bme test file\u001b[m\r\n",
      "\u001b[32m+\u001b[m\u001b[32mHello Git README\u001b[m\r\n",
      "\u001b[1mdiff --git a/hello.txt b/hello.txt\u001b[m\r\n",
      "\u001b[1mnew file mode 100644\u001b[m\r\n",
      "\u001b[1mindex 0000000..9f4d96d\u001b[m\r\n",
      "\u001b[1m--- /dev/null\u001b[m\r\n",
      "\u001b[1m+++ b/hello.txt\u001b[m\r\n",
      "\u001b[36m@@ -0,0 +1 @@\u001b[m\r\n",
      "\u001b[32m+\u001b[m\u001b[32mHello Git\u001b[m\r\n"
     ]
    }
   ],
   "source": [
    "# check difference with local repository\n",
    "!git diff HEAD"
   ]
  },
  {
   "cell_type": "code",
   "execution_count": 22,
   "metadata": {},
   "outputs": [
    {
     "name": "stdout",
     "output_type": "stream",
     "text": [
      "[master 103128d] some updates\r\n",
      " 2 files changed, 2 insertions(+)\r\n",
      " create mode 100644 hello.txt\r\n"
     ]
    }
   ],
   "source": [
    "!git commit -m 'some updates'"
   ]
  },
  {
   "cell_type": "code",
   "execution_count": 23,
   "metadata": {
    "slideshow": {
     "slide_type": "subslide"
    }
   },
   "outputs": [
    {
     "name": "stdout",
     "output_type": "stream",
     "text": [
      "On branch master\r\n",
      "Your branch is ahead of 'origin/master' by 1 commit.\r\n",
      "  (use \"git push\" to publish your local commits)\r\n",
      "\r\n",
      "nothing to commit, working tree clean\r\n"
     ]
    }
   ],
   "source": [
    "!git status"
   ]
  },
  {
   "cell_type": "code",
   "execution_count": 24,
   "metadata": {},
   "outputs": [],
   "source": [
    "!git diff HEAD"
   ]
  },
  {
   "cell_type": "markdown",
   "metadata": {
    "slideshow": {
     "slide_type": "subslide"
    }
   },
   "source": [
    "## Recap so far\n",
    "<img src=\"images/Github_workflow-01.png\" alt=\"gitworkflow\" width=\"1000\"/>"
   ]
  },
  {
   "cell_type": "markdown",
   "metadata": {
    "slideshow": {
     "slide_type": "slide"
    }
   },
   "source": [
    "# 4. Interacting with the remote repository "
   ]
  },
  {
   "cell_type": "code",
   "execution_count": 25,
   "metadata": {
    "slideshow": {
     "slide_type": "subslide"
    }
   },
   "outputs": [
    {
     "name": "stdout",
     "output_type": "stream",
     "text": [
      "Enumerating objects: 6, done.\n",
      "Counting objects: 100% (6/6), done.\n",
      "Delta compression using up to 4 threads\n",
      "Compressing objects: 100% (2/2), done.\n",
      "Writing objects: 100% (4/4), 336 bytes | 336.00 KiB/s, done.\n",
      "Total 4 (delta 0), reused 0 (delta 0)\n",
      "To https://github.com/agiovann/test_bme.git\n",
      "   7204104..103128d  master -> master\n"
     ]
    }
   ],
   "source": [
    "# broadcast changes to the remote repository\n",
    "!git push\n",
    "# got to website and check changes"
   ]
  },
  {
   "cell_type": "code",
   "execution_count": 26,
   "metadata": {},
   "outputs": [
    {
     "name": "stdout",
     "output_type": "stream",
     "text": [
      "\u001b[33m103128d\u001b[m\u001b[33m (\u001b[m\u001b[1;36mHEAD -> \u001b[m\u001b[1;32mmaster\u001b[m\u001b[33m, \u001b[m\u001b[1;31morigin/master\u001b[m\u001b[33m, \u001b[m\u001b[1;31morigin/HEAD\u001b[m\u001b[33m)\u001b[m some updates\r\n",
      "\u001b[33m7204104\u001b[m Initial commit\r\n"
     ]
    }
   ],
   "source": [
    "# get log of changes\n",
    "!git log --oneline"
   ]
  },
  {
   "cell_type": "markdown",
   "metadata": {
    "slideshow": {
     "slide_type": "subslide"
    }
   },
   "source": [
    "### now go to github web site and change the README.md file "
   ]
  },
  {
   "cell_type": "code",
   "execution_count": 28,
   "metadata": {},
   "outputs": [
    {
     "name": "stdout",
     "output_type": "stream",
     "text": [
      "remote: Enumerating objects: 5, done.\u001b[K\n",
      "remote: Counting objects: 100% (5/5), done.\u001b[K\n",
      "remote: Compressing objects: 100% (2/2), done.\u001b[K\n",
      "remote: Total 3 (delta 0), reused 0 (delta 0), pack-reused 0\n",
      "Unpacking objects: 100% (3/3), done.\n",
      "From https://github.com/agiovann/test_bme\n",
      "   103128d..c582caa  master     -> origin/master\n",
      "Updating 103128d..c582caa\n",
      "Fast-forward\n",
      " README.md | 2 \u001b[32m+\u001b[m\u001b[31m-\u001b[m\n",
      " 1 file changed, 1 insertion(+), 1 deletion(-)\n"
     ]
    }
   ],
   "source": [
    "# this will retrieve the changed file\n",
    "!git pull"
   ]
  },
  {
   "cell_type": "code",
   "execution_count": 29,
   "metadata": {
    "slideshow": {
     "slide_type": "subslide"
    }
   },
   "outputs": [
    {
     "name": "stdout",
     "output_type": "stream",
     "text": [
      "# test_bme\r\n",
      "Bme test file\r\n",
      "Bye Git README\r\n"
     ]
    }
   ],
   "source": [
    "!cat README.md"
   ]
  },
  {
   "cell_type": "markdown",
   "metadata": {
    "slideshow": {
     "slide_type": "subslide"
    }
   },
   "source": [
    "## Recap so far\n",
    "<img src=\"images/Github_workflow-01.png\" alt=\"gitworkflow\" width=\"1000\"/>"
   ]
  },
  {
   "cell_type": "markdown",
   "metadata": {
    "slideshow": {
     "slide_type": "slide"
    }
   },
   "source": [
    "# 5. Working with branches\n",
    "* create a new branch\n",
    "* work on the branch\n",
    "* merge the branch "
   ]
  },
  {
   "cell_type": "code",
   "execution_count": 30,
   "metadata": {
    "slideshow": {
     "slide_type": "subslide"
    }
   },
   "outputs": [
    {
     "name": "stdout",
     "output_type": "stream",
     "text": [
      "Switched to a new branch 'new_feature_1'\r\n"
     ]
    }
   ],
   "source": [
    "# create a new branch\n",
    "!git checkout -b new_feature_1 # create a new branch called feature_1"
   ]
  },
  {
   "cell_type": "code",
   "execution_count": 31,
   "metadata": {},
   "outputs": [
    {
     "name": "stdout",
     "output_type": "stream",
     "text": [
      "  master\u001b[m\r\n",
      "* \u001b[32mnew_feature_1\u001b[m\r\n"
     ]
    }
   ],
   "source": [
    "# check which branch we are in \n",
    "!git branch"
   ]
  },
  {
   "cell_type": "code",
   "execution_count": 32,
   "metadata": {
    "slideshow": {
     "slide_type": "subslide"
    }
   },
   "outputs": [
    {
     "name": "stdout",
     "output_type": "stream",
     "text": [
      "On branch new_feature_1\r\n",
      "nothing to commit, working tree clean\r\n"
     ]
    }
   ],
   "source": [
    "!git status"
   ]
  },
  {
   "cell_type": "code",
   "execution_count": 33,
   "metadata": {},
   "outputs": [],
   "source": [
    "!echo \"Hola Git\" >> hello.txt"
   ]
  },
  {
   "cell_type": "code",
   "execution_count": 34,
   "metadata": {
    "slideshow": {
     "slide_type": "subslide"
    }
   },
   "outputs": [
    {
     "name": "stdout",
     "output_type": "stream",
     "text": [
      "[new_feature_1 b60eabf] added spanish\r\n",
      " 1 file changed, 1 insertion(+)\r\n"
     ]
    }
   ],
   "source": [
    "!git commit -am 'added spanish'"
   ]
  },
  {
   "cell_type": "code",
   "execution_count": 35,
   "metadata": {},
   "outputs": [
    {
     "name": "stdout",
     "output_type": "stream",
     "text": [
      "Enumerating objects: 5, done.\n",
      "Counting objects: 100% (5/5), done.\n",
      "Delta compression using up to 4 threads\n",
      "Compressing objects: 100% (2/2), done.\n",
      "Writing objects: 100% (3/3), 294 bytes | 294.00 KiB/s, done.\n",
      "Total 3 (delta 0), reused 0 (delta 0)\n",
      "remote: \n",
      "remote: Create a pull request for 'new_feature_1' on GitHub by visiting:\u001b[K\n",
      "remote:      https://github.com/agiovann/test_bme/pull/new/new_feature_1\u001b[K\n",
      "remote: \n",
      "To https://github.com/agiovann/test_bme.git\n",
      " * [new branch]      new_feature_1 -> new_feature_1\n",
      "Branch 'new_feature_1' set up to track remote branch 'new_feature_1' from 'origin'.\n"
     ]
    }
   ],
   "source": [
    "# push branch and communicate that it should be kept in sync\n",
    "!git push --set-upstream origin new_feature_1"
   ]
  },
  {
   "cell_type": "code",
   "execution_count": 36,
   "metadata": {
    "slideshow": {
     "slide_type": "subslide"
    }
   },
   "outputs": [
    {
     "name": "stdout",
     "output_type": "stream",
     "text": [
      "Switched to branch 'master'\n",
      "Your branch is up to date with 'origin/master'.\n",
      "* \u001b[32mmaster\u001b[m\n",
      "  new_feature_1\u001b[m\n"
     ]
    }
   ],
   "source": [
    "# go back to master branch\n",
    "!git checkout master\n",
    "!git branch"
   ]
  },
  {
   "cell_type": "code",
   "execution_count": 37,
   "metadata": {},
   "outputs": [
    {
     "name": "stdout",
     "output_type": "stream",
     "text": [
      "Switched to a new branch 'new_feature_2'\n",
      "[new_feature_2 7bb81a0] added Italian\n",
      " 1 file changed, 1 insertion(+)\n",
      "Enumerating objects: 5, done.\n",
      "Counting objects: 100% (5/5), done.\n",
      "Delta compression using up to 4 threads\n",
      "Compressing objects: 100% (2/2), done.\n",
      "Writing objects: 100% (3/3), 294 bytes | 294.00 KiB/s, done.\n",
      "Total 3 (delta 0), reused 0 (delta 0)\n",
      "remote: \n",
      "remote: Create a pull request for 'new_feature_2' on GitHub by visiting:\u001b[K\n",
      "remote:      https://github.com/agiovann/test_bme/pull/new/new_feature_2\u001b[K\n",
      "remote: \n",
      "To https://github.com/agiovann/test_bme.git\n",
      " * [new branch]      new_feature_2 -> new_feature_2\n",
      "Branch 'new_feature_2' set up to track remote branch 'new_feature_2' from 'origin'.\n"
     ]
    }
   ],
   "source": [
    "!git checkout -b new_feature_2\n",
    "!echo \"Ciao Git\" >> hello.txt\n",
    "# coincise command to put into stage and then commit\n",
    "!git commit -a -m 'added Italian' \n",
    "!git push --set-upstream origin new_feature_2"
   ]
  },
  {
   "cell_type": "markdown",
   "metadata": {
    "slideshow": {
     "slide_type": "subslide"
    }
   },
   "source": [
    "### Now go to the github web interface and merge"
   ]
  },
  {
   "cell_type": "code",
   "execution_count": 38,
   "metadata": {},
   "outputs": [
    {
     "name": "stdout",
     "output_type": "stream",
     "text": [
      "Switched to branch 'master'\n",
      "Your branch is up to date with 'origin/master'.\n",
      "remote: Enumerating objects: 11, done.\u001b[K\n",
      "remote: Counting objects: 100% (11/11), done.\u001b[K\n",
      "remote: Compressing objects: 100% (4/4), done.\u001b[K\n",
      "remote: Total 5 (delta 0), reused 0 (delta 0), pack-reused 0\u001b[K\n",
      "Unpacking objects: 100% (5/5), done.\n",
      "From https://github.com/agiovann/test_bme\n",
      "   c582caa..8864c09  master        -> origin/master\n",
      "   7bb81a0..f5ef52a  new_feature_2 -> origin/new_feature_2\n",
      "Updating c582caa..8864c09\n",
      "Fast-forward\n",
      " hello.txt | 3 \u001b[32m+++\u001b[m\n",
      " 1 file changed, 3 insertions(+)\n"
     ]
    }
   ],
   "source": [
    "# synchronize (no conflicts)\n",
    "!git checkout master\n",
    "!git pull"
   ]
  },
  {
   "cell_type": "markdown",
   "metadata": {
    "slideshow": {
     "slide_type": "subslide"
    }
   },
   "source": [
    "## Recap\n",
    "<img src=\"images/git-branches.svg\" alt=\"gitbranch\" width=\"1000\"/>\n",
    "source: https://oer.gitlab.io/oer-on-oer-infrastructure/Git-introduction.html#/"
   ]
  },
  {
   "cell_type": "markdown",
   "metadata": {
    "slideshow": {
     "slide_type": "subslide"
    }
   },
   "source": [
    "``` Manually modify file from the web interface with Australian```"
   ]
  },
  {
   "cell_type": "code",
   "execution_count": 39,
   "metadata": {},
   "outputs": [
    {
     "name": "stdout",
     "output_type": "stream",
     "text": [
      "Switched to a new branch 'new_feature_3'\n",
      "[new_feature_3 c9a2c41] added French\n",
      " 1 file changed, 1 insertion(+)\n",
      "Enumerating objects: 8, done.\n",
      "Counting objects: 100% (8/8), done.\n",
      "Delta compression using up to 4 threads\n",
      "Compressing objects: 100% (3/3), done.\n",
      "Writing objects: 100% (4/4), 928 bytes | 928.00 KiB/s, done.\n",
      "Total 4 (delta 0), reused 0 (delta 0)\n",
      "remote: \n",
      "remote: Create a pull request for 'new_feature_3' on GitHub by visiting:\u001b[K\n",
      "remote:      https://github.com/agiovann/test_bme/pull/new/new_feature_3\u001b[K\n",
      "remote: \n",
      "To https://github.com/agiovann/test_bme.git\n",
      " * [new branch]      new_feature_3 -> new_feature_3\n",
      "Branch 'new_feature_3' set up to track remote branch 'new_feature_3' from 'origin'.\n"
     ]
    }
   ],
   "source": [
    "!git checkout -b new_feature_3\n",
    "!echo \"Salut Git\" >> hello.txt\n",
    "!git commit -a -m 'added French' \n",
    "!git push --set-upstream origin new_feature_3"
   ]
  },
  {
   "cell_type": "code",
   "execution_count": 40,
   "metadata": {
    "slideshow": {
     "slide_type": "subslide"
    }
   },
   "outputs": [
    {
     "name": "stdout",
     "output_type": "stream",
     "text": [
      "On branch new_feature_3\r\n",
      "Your branch is up to date with 'origin/new_feature_3'.\r\n",
      "\r\n",
      "nothing to commit, working tree clean\r\n"
     ]
    }
   ],
   "source": [
    "!git status"
   ]
  },
  {
   "cell_type": "code",
   "execution_count": 41,
   "metadata": {
    "slideshow": {
     "slide_type": "-"
    }
   },
   "outputs": [
    {
     "name": "stdout",
     "output_type": "stream",
     "text": [
      "remote: Enumerating objects: 5, done.\u001b[K\r\n",
      "remote: Counting objects:  20% (1/5)\u001b[K\r",
      "remote: Counting objects:  40% (2/5)\u001b[K\r",
      "remote: Counting objects:  60% (3/5)\u001b[K\r",
      "remote: Counting objects:  80% (4/5)\u001b[K\r",
      "remote: Counting objects: 100% (5/5)\u001b[K\r",
      "remote: Counting objects: 100% (5/5), done.\u001b[K\r\n",
      "remote: Compressing objects:  50% (1/2)\u001b[K\r",
      "remote: Compressing objects: 100% (2/2)\u001b[K\r",
      "remote: Compressing objects: 100% (2/2), done.\u001b[K\r\n",
      "remote: Total 3 (delta 0), reused 0 (delta 0), pack-reused 0\u001b[K\r\n",
      "Unpacking objects:  33% (1/3)   \r",
      "Unpacking objects:  66% (2/3)   \r",
      "Unpacking objects: 100% (3/3)   \r",
      "Unpacking objects: 100% (3/3), done.\r\n",
      "From https://github.com/agiovann/test_bme\r\n",
      "   8864c09..c6ba9f5  master     -> origin/master\r\n"
     ]
    }
   ],
   "source": [
    "# now sync the local repo with remote (master especially)\n",
    "!git fetch origin"
   ]
  },
  {
   "cell_type": "code",
   "execution_count": 42,
   "metadata": {
    "slideshow": {
     "slide_type": "subslide"
    }
   },
   "outputs": [
    {
     "name": "stdout",
     "output_type": "stream",
     "text": [
      "Switched to branch 'master'\n",
      "Your branch is behind 'origin/master' by 1 commit, and can be fast-forwarded.\n",
      "  (use \"git pull\" to update your local branch)\n",
      "Updating 8864c09..c6ba9f5\n",
      "Fast-forward\n",
      " hello.txt | 2 \u001b[32m+\u001b[m\u001b[31m-\u001b[m\n",
      " 1 file changed, 1 insertion(+), 1 deletion(-)\n"
     ]
    }
   ],
   "source": [
    "!git checkout master\n",
    "!git pull"
   ]
  },
  {
   "cell_type": "code",
   "execution_count": null,
   "metadata": {},
   "outputs": [],
   "source": [
    "#!git reset --hard origin/HEAD"
   ]
  },
  {
   "cell_type": "code",
   "execution_count": 43,
   "metadata": {
    "slideshow": {
     "slide_type": "subslide"
    }
   },
   "outputs": [
    {
     "name": "stdout",
     "output_type": "stream",
     "text": [
      "Auto-merging hello.txt\r\n",
      "CONFLICT (content): Merge conflict in hello.txt\r\n",
      "Automatic merge failed; fix conflicts and then commit the result.\r\n"
     ]
    }
   ],
   "source": [
    "# merge branch new_feature_3 into current branch (master)\n",
    "!git merge new_feature_3"
   ]
  },
  {
   "cell_type": "code",
   "execution_count": 44,
   "metadata": {},
   "outputs": [
    {
     "name": "stdout",
     "output_type": "stream",
     "text": [
      "On branch master\r\n",
      "Your branch is up to date with 'origin/master'.\r\n",
      "\r\n",
      "You have unmerged paths.\r\n",
      "  (fix conflicts and run \"git commit\")\r\n",
      "  (use \"git merge --abort\" to abort the merge)\r\n",
      "\r\n",
      "Unmerged paths:\r\n",
      "  (use \"git add <file>...\" to mark resolution)\r\n",
      "\r\n",
      "\t\u001b[31mboth modified:   hello.txt\u001b[m\r\n",
      "\r\n",
      "no changes added to commit (use \"git add\" and/or \"git commit -a\")\r\n"
     ]
    }
   ],
   "source": [
    "!git status"
   ]
  },
  {
   "cell_type": "code",
   "execution_count": 45,
   "metadata": {
    "slideshow": {
     "slide_type": "subslide"
    }
   },
   "outputs": [
    {
     "name": "stdout",
     "output_type": "stream",
     "text": [
      "Hello Git\r\n",
      "Ciao Git\r\n",
      "Hola Git\r\n",
      "Goodday Git\r\n",
      "Salut Git\r\n"
     ]
    }
   ],
   "source": [
    "# you need to go and manually fix with an editor\n",
    "!cat hello.txt "
   ]
  },
  {
   "cell_type": "code",
   "execution_count": 48,
   "metadata": {
    "slideshow": {
     "slide_type": "-"
    }
   },
   "outputs": [],
   "source": [
    "!git add hello.txt"
   ]
  },
  {
   "cell_type": "code",
   "execution_count": 49,
   "metadata": {
    "slideshow": {
     "slide_type": "subslide"
    }
   },
   "outputs": [
    {
     "name": "stdout",
     "output_type": "stream",
     "text": [
      "On branch master\r\n",
      "Your branch is up to date with 'origin/master'.\r\n",
      "\r\n",
      "All conflicts fixed but you are still merging.\r\n",
      "  (use \"git commit\" to conclude merge)\r\n",
      "\r\n",
      "Changes to be committed:\r\n",
      "\r\n",
      "\t\u001b[32mmodified:   hello.txt\u001b[m\r\n",
      "\r\n"
     ]
    }
   ],
   "source": [
    "!git status"
   ]
  },
  {
   "cell_type": "code",
   "execution_count": 50,
   "metadata": {},
   "outputs": [
    {
     "name": "stdout",
     "output_type": "stream",
     "text": [
      "[master e541bce] merged French\r\n"
     ]
    }
   ],
   "source": [
    "!git commit -m 'merged French'"
   ]
  },
  {
   "cell_type": "code",
   "execution_count": 51,
   "metadata": {
    "slideshow": {
     "slide_type": "subslide"
    }
   },
   "outputs": [
    {
     "name": "stdout",
     "output_type": "stream",
     "text": [
      "Enumerating objects: 7, done.\n",
      "Counting objects: 100% (7/7), done.\n",
      "Delta compression using up to 4 threads\n",
      "Compressing objects: 100% (3/3), done.\n",
      "Writing objects: 100% (3/3), 344 bytes | 344.00 KiB/s, done.\n",
      "Total 3 (delta 0), reused 0 (delta 0)\n",
      "To https://github.com/agiovann/test_bme.git\n",
      "   c6ba9f5..e541bce  master -> master\n"
     ]
    }
   ],
   "source": [
    "!git push"
   ]
  },
  {
   "cell_type": "code",
   "execution_count": 52,
   "metadata": {
    "slideshow": {
     "slide_type": "subslide"
    }
   },
   "outputs": [
    {
     "name": "stdout",
     "output_type": "stream",
     "text": [
      "\u001b[33me541bce\u001b[m\u001b[33m (\u001b[m\u001b[1;36mHEAD -> \u001b[m\u001b[1;32mmaster\u001b[m\u001b[33m, \u001b[m\u001b[1;31morigin/master\u001b[m\u001b[33m, \u001b[m\u001b[1;31morigin/HEAD\u001b[m\u001b[33m)\u001b[m merged French\n",
      "\u001b[33mc9a2c41\u001b[m\u001b[33m (\u001b[m\u001b[1;31morigin/new_feature_3\u001b[m\u001b[33m, \u001b[m\u001b[1;32mnew_feature_3\u001b[m\u001b[33m)\u001b[m added French\n",
      "\u001b[33mc6ba9f5\u001b[m added Australian\n",
      "\u001b[33m8864c09\u001b[m Merge pull request #2 from agiovann/new_feature_2\n",
      "\u001b[33mf5ef52a\u001b[m\u001b[33m (\u001b[m\u001b[1;31morigin/new_feature_2\u001b[m\u001b[33m)\u001b[m Merge branch 'master' into new_feature_2\n",
      "\u001b[33m7493bd9\u001b[m Merge pull request #1 from agiovann/new_feature_1\n",
      "\u001b[33m7bb81a0\u001b[m\u001b[33m (\u001b[m\u001b[1;32mnew_feature_2\u001b[m\u001b[33m)\u001b[m added Italian\n",
      "\u001b[33mb60eabf\u001b[m\u001b[33m (\u001b[m\u001b[1;31morigin/new_feature_1\u001b[m\u001b[33m, \u001b[m\u001b[1;32mnew_feature_1\u001b[m\u001b[33m)\u001b[m added spanish\n",
      "\u001b[33mc582caa\u001b[m Update README.md\n",
      "\u001b[33m103128d\u001b[m some updates\n",
      "\u001b[33m7204104\u001b[m Initial commit\n",
      "\u001b[33mc6ba9f5\u001b[m\u001b[33m (\u001b[m\u001b[1;36mHEAD -> \u001b[m\u001b[1;32mmaster\u001b[m\u001b[33m)\u001b[m added Australian\n",
      "\u001b[33m8864c09\u001b[m Merge pull request #2 from agiovann/new_feature_2\n",
      "\u001b[33mf5ef52a\u001b[m\u001b[33m (\u001b[m\u001b[1;31morigin/new_feature_2\u001b[m\u001b[33m)\u001b[m Merge branch 'master' into new_feature_2\n",
      "\u001b[33m7493bd9\u001b[m Merge pull request #1 from agiovann/new_feature_1\n",
      "\u001b[33m7bb81a0\u001b[m\u001b[33m (\u001b[m\u001b[1;32mnew_feature_2\u001b[m\u001b[33m)\u001b[m added Italian\n",
      "\u001b[33mb60eabf\u001b[m\u001b[33m (\u001b[m\u001b[1;31morigin/new_feature_1\u001b[m\u001b[33m, \u001b[m\u001b[1;32mnew_feature_1\u001b[m\u001b[33m)\u001b[m added spanish\n",
      "\u001b[33mc582caa\u001b[m Update README.md\n",
      "\u001b[33m103128d\u001b[m some updates\n",
      "\u001b[33m7204104\u001b[m Initial commit\n"
     ]
    }
   ],
   "source": [
    "!git log --oneline\n",
    "!git reset --soft HEAD~1\n",
    "!git log --oneline"
   ]
  },
  {
   "cell_type": "code",
   "execution_count": 53,
   "metadata": {
    "slideshow": {
     "slide_type": "subslide"
    }
   },
   "outputs": [
    {
     "name": "stdout",
     "output_type": "stream",
     "text": [
      "/Users/agiovann/SOFTWARE/TEACHING/machine-learning-BMME890\n"
     ]
    }
   ],
   "source": [
    "#useful to make git work on jupyter \n",
    "%cd {_dh[0]} "
   ]
  },
  {
   "cell_type": "markdown",
   "metadata": {
    "slideshow": {
     "slide_type": "slide"
    }
   },
   "source": [
    "# 6. Summary\n",
    "\n",
    "* Git and Github are useful tools to collaborate on sets of documents\n",
    "    * track fine details of changes\n",
    "    * facilitate integration from different versions\n",
    "    * it is distributed\n",
    "* Particularly convenient is to use them on software\n",
    "* Git and Github also enable and lower the barrier for collaborations on large scale open-source software projects"
   ]
  },
  {
   "cell_type": "markdown",
   "metadata": {
    "slideshow": {
     "slide_type": "slide"
    }
   },
   "source": [
    "# 7. Homework\n",
    "* on your machine install [anaconda](https://www.anaconda.com/distribution/), create an anaconda  environment called *bmme890*, install [github](https://desktop.github.com/) (2 pts)\n",
    "* setup repository for course on your personal github account *name it bmme_480_your_surname, include readme with information about your progress (2 pts)\n",
    "* create a branch named *dev*, add some text example files, collaborate on (i.e. edit at the same time) them with a course mate (2 pts)\n",
    "* merge the changes of the collaboration into *dev* (2 pts)\n",
    "* create a pull request and merge *dev* into your *master* branch (2 pts)"
   ]
  }
 ],
 "metadata": {
  "celltoolbar": "Slideshow",
  "kernelspec": {
   "display_name": "Python 3",
   "language": "python",
   "name": "python3"
  },
  "language_info": {
   "codemirror_mode": {
    "name": "ipython",
    "version": 3
   },
   "file_extension": ".py",
   "mimetype": "text/x-python",
   "name": "python",
   "nbconvert_exporter": "python",
   "pygments_lexer": "ipython3",
   "version": "3.7.3"
  }
 },
 "nbformat": 4,
 "nbformat_minor": 2
}
